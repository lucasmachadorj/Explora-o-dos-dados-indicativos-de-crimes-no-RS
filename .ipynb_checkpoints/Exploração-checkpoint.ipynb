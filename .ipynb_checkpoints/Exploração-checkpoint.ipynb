{
 "cells": [
  {
   "cell_type": "code",
   "execution_count": 2,
   "metadata": {
    "collapsed": false
   },
   "outputs": [
    {
     "name": "stdout",
     "output_type": "stream",
     "text": [
      "Populating the interactive namespace from numpy and matplotlib\n"
     ]
    }
   ],
   "source": [
    "import pandas as pd\n",
    "import os\n",
    "import matplotlib.pyplot as plt\n",
    "import numpy as np\n",
    "\n",
    "%pylab inline "
   ]
  },
  {
   "cell_type": "code",
   "execution_count": 3,
   "metadata": {
    "collapsed": true
   },
   "outputs": [],
   "source": [
    "datapath = \"/home/machado/documents/mestrado - FGV/Visualizacao da Informacao/Projeto\"\n",
    "\n",
    "data_sources = {}\n",
    "for i in range(2002, 2013):\n",
    "    data_sources[i] = os.path.join(datapath,\"{0}.csv\".format(i))"
   ]
  },
  {
   "cell_type": "code",
   "execution_count": 4,
   "metadata": {
    "collapsed": false
   },
   "outputs": [
    {
     "data": {
      "text/plain": [
       "{2002: '/home/machado/documents/mestrado - FGV/Visualizacao da Informacao/Projeto/2002.csv',\n",
       " 2003: '/home/machado/documents/mestrado - FGV/Visualizacao da Informacao/Projeto/2003.csv',\n",
       " 2004: '/home/machado/documents/mestrado - FGV/Visualizacao da Informacao/Projeto/2004.csv',\n",
       " 2005: '/home/machado/documents/mestrado - FGV/Visualizacao da Informacao/Projeto/2005.csv',\n",
       " 2006: '/home/machado/documents/mestrado - FGV/Visualizacao da Informacao/Projeto/2006.csv',\n",
       " 2007: '/home/machado/documents/mestrado - FGV/Visualizacao da Informacao/Projeto/2007.csv',\n",
       " 2008: '/home/machado/documents/mestrado - FGV/Visualizacao da Informacao/Projeto/2008.csv',\n",
       " 2009: '/home/machado/documents/mestrado - FGV/Visualizacao da Informacao/Projeto/2009.csv',\n",
       " 2010: '/home/machado/documents/mestrado - FGV/Visualizacao da Informacao/Projeto/2010.csv',\n",
       " 2011: '/home/machado/documents/mestrado - FGV/Visualizacao da Informacao/Projeto/2011.csv',\n",
       " 2012: '/home/machado/documents/mestrado - FGV/Visualizacao da Informacao/Projeto/2012.csv'}"
      ]
     },
     "execution_count": 4,
     "metadata": {},
     "output_type": "execute_result"
    }
   ],
   "source": [
    "data_sources"
   ]
  },
  {
   "cell_type": "code",
   "execution_count": 12,
   "metadata": {
    "collapsed": false
   },
   "outputs": [],
   "source": [
    "df_csv = {}\n",
    "frames = []\n",
    "for i in range(2002, 2013):\n",
    "    df_csv[i] = pd.read_csv(data_sources[i], encoding = \"ISO-8859-1\", sep=\";\")\n",
    "    df_csv[i].columns = [\"MUNICIPIO\",\"DATA\",\"FATO\",\"QTDE\"]\n",
    "    frames.append(df_csv[i])    \n",
    "\n",
    "indicativos = pd.concat(frames)"
   ]
  },
  {
   "cell_type": "code",
   "execution_count": 13,
   "metadata": {
    "collapsed": false
   },
   "outputs": [
    {
     "data": {
      "text/html": [
       "<div>\n",
       "<table border=\"1\" class=\"dataframe\">\n",
       "  <thead>\n",
       "    <tr style=\"text-align: right;\">\n",
       "      <th></th>\n",
       "      <th>MUNICIPIO</th>\n",
       "      <th>DATA</th>\n",
       "      <th>FATO</th>\n",
       "      <th>QTDE</th>\n",
       "    </tr>\n",
       "  </thead>\n",
       "  <tbody>\n",
       "    <tr>\n",
       "      <th>0</th>\n",
       "      <td>ACEGUA</td>\n",
       "      <td>2002-04</td>\n",
       "      <td>Furtos</td>\n",
       "      <td>1</td>\n",
       "    </tr>\n",
       "    <tr>\n",
       "      <th>1</th>\n",
       "      <td>ACEGUA</td>\n",
       "      <td>2002-07</td>\n",
       "      <td>Furtos</td>\n",
       "      <td>1</td>\n",
       "    </tr>\n",
       "    <tr>\n",
       "      <th>2</th>\n",
       "      <td>ACEGUA</td>\n",
       "      <td>2002-09</td>\n",
       "      <td>Furtos</td>\n",
       "      <td>1</td>\n",
       "    </tr>\n",
       "    <tr>\n",
       "      <th>3</th>\n",
       "      <td>ACEGUA</td>\n",
       "      <td>2002-12</td>\n",
       "      <td>Furtos</td>\n",
       "      <td>2</td>\n",
       "    </tr>\n",
       "    <tr>\n",
       "      <th>4</th>\n",
       "      <td>AGUA SANTA</td>\n",
       "      <td>2002-01</td>\n",
       "      <td>Furtos</td>\n",
       "      <td>1</td>\n",
       "    </tr>\n",
       "  </tbody>\n",
       "</table>\n",
       "</div>"
      ],
      "text/plain": [
       "    MUNICIPIO     DATA    FATO  QTDE\n",
       "0      ACEGUA  2002-04  Furtos     1\n",
       "1      ACEGUA  2002-07  Furtos     1\n",
       "2      ACEGUA  2002-09  Furtos     1\n",
       "3      ACEGUA  2002-12  Furtos     2\n",
       "4  AGUA SANTA  2002-01  Furtos     1"
      ]
     },
     "execution_count": 13,
     "metadata": {},
     "output_type": "execute_result"
    }
   ],
   "source": [
    "indicativos.head()"
   ]
  },
  {
   "cell_type": "markdown",
   "metadata": {},
   "source": [
    "Somente duas linhas estão com dados incompletos"
   ]
  },
  {
   "cell_type": "code",
   "execution_count": 14,
   "metadata": {
    "collapsed": false
   },
   "outputs": [
    {
     "data": {
      "text/plain": [
       "(array([186136, 186137]),\n",
       " array([186136, 186137]),\n",
       " array([186136, 186137]),\n",
       " array([], dtype=int64))"
      ]
     },
     "execution_count": 14,
     "metadata": {},
     "output_type": "execute_result"
    }
   ],
   "source": [
    "municipio_nan = np.where(indicativos['MUNICIPIO'].isnull())[0]\n",
    "data_nan = np.where(indicativos['DATA'].isnull())[0]\n",
    "fato_nan = np.where(indicativos['FATO'].isnull())[0]\n",
    "qtde_nan = np.where(indicativos['QTDE'].isnull())[0]\n",
    "\n",
    "municipio_nan, data_nan, fato_nan, qtde_nan"
   ]
  },
  {
   "cell_type": "markdown",
   "metadata": {},
   "source": [
    "Remocao das linhas com dados incompletos"
   ]
  },
  {
   "cell_type": "code",
   "execution_count": 15,
   "metadata": {
    "collapsed": true
   },
   "outputs": [],
   "source": [
    "indicativos = indicativos[indicativos.MUNICIPIO.notnull()]"
   ]
  },
  {
   "cell_type": "code",
   "execution_count": null,
   "metadata": {
    "collapsed": true
   },
   "outputs": [],
   "source": []
  }
 ],
 "metadata": {
  "kernelspec": {
   "display_name": "Python 3",
   "language": "python",
   "name": "python3"
  },
  "language_info": {
   "codemirror_mode": {
    "name": "ipython",
    "version": 3
   },
   "file_extension": ".py",
   "mimetype": "text/x-python",
   "name": "python",
   "nbconvert_exporter": "python",
   "pygments_lexer": "ipython3",
   "version": "3.3.5"
  }
 },
 "nbformat": 4,
 "nbformat_minor": 0
}
